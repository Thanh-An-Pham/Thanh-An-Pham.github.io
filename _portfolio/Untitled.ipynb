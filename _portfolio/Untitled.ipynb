{
 "cells": [
  {
   "cell_type": "markdown",
   "id": "844e0541-6dcf-4086-b799-dda7d75060b8",
   "metadata": {},
   "source": [
    "\n",
    "## Automated Validation pharmacophore model\n",
    "- This package use results from MOE pharmacophore model screening (*txt, *csv)\n",
    "- Automation select best pharmacophore model to optimize\n",
    "\n",
    "![screenshot](./images/Molph4/Molph4.png)"
   ]
  },
  {
   "cell_type": "markdown",
   "id": "428e24d4-d5c6-420c-98bd-253387cfdf60",
   "metadata": {},
   "source": []
  }
 ],
 "metadata": {
  "kernelspec": {
   "display_name": "Python 3 (ipykernel)",
   "language": "python",
   "name": "python3"
  },
  "language_info": {
   "codemirror_mode": {
    "name": "ipython",
    "version": 3
   },
   "file_extension": ".py",
   "mimetype": "text/x-python",
   "name": "python",
   "nbconvert_exporter": "python",
   "pygments_lexer": "ipython3",
   "version": "3.9.16"
  }
 },
 "nbformat": 4,
 "nbformat_minor": 5
}
